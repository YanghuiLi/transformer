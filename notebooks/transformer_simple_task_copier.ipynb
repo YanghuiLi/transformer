{
 "cells": [
  {
   "cell_type": "markdown",
   "metadata": {},
   "source": [
    "## Annotated Transformer\n",
    "\n",
    "* http://nlp.seas.harvard.edu/2018/04/03/attention.html"
   ]
  },
  {
   "cell_type": "code",
   "execution_count": 1,
   "metadata": {},
   "outputs": [],
   "source": [
    "import sys, os\n",
    "\n",
    "sys.path.append(\"../python/\")\n",
    "from transformer import *\n",
    "\n",
    "ctx = mx.gpu()"
   ]
  },
  {
   "cell_type": "markdown",
   "metadata": {},
   "source": [
    "### Synthetic data"
   ]
  },
  {
   "cell_type": "code",
   "execution_count": 9,
   "metadata": {},
   "outputs": [],
   "source": [
    "dat = data_gen(V, batch, n_batch, in_seq_len, ctx = ctx)"
   ]
  },
  {
   "cell_type": "markdown",
   "metadata": {},
   "source": [
    "### Architecture"
   ]
  },
  {
   "cell_type": "code",
   "execution_count": 32,
   "metadata": {},
   "outputs": [],
   "source": [
    "# Task: copy 10 input integers\n",
    "V = 11\n",
    "batch = 30\n",
    "n_batch = 20\n",
    "in_seq_len = 10\n",
    "out_seq_len = 10\n",
    "dropout = .1\n",
    "data = data_gen(V, batch, n_batch, in_seq_len, ctx = ctx)\n",
    "model = make_model(V, V, in_seq_len, out_seq_len, N = 2, dropout = .1, d_model = 128, ctx = ctx)\n",
    "model.collect_params().initialize(mx.init.Xavier(), ctx = ctx)\n",
    "trainer = gluon.Trainer(model.collect_params(), 'adam', {'learning_rate': 1e-4, 'beta1': 0.9, 'beta2': 0.98 , 'epsilon': 1e-9})\n",
    "loss = gluon.loss.KLDivLoss(from_logits = False)"
   ]
  },
  {
   "cell_type": "code",
   "execution_count": 23,
   "metadata": {},
   "outputs": [],
   "source": [
    "for i,d in enumerate(dat):\n",
    "    dd =  d\n",
    "    if i == 0:\n",
    "        break"
   ]
  },
  {
   "cell_type": "code",
   "execution_count": 31,
   "metadata": {},
   "outputs": [
    {
     "name": "stdout",
     "output_type": "stream",
     "text": [
      "src :\n",
      "[[ 1.  9.  7.  1.  2. 10.  3.  8.  8.  9.]\n",
      " [ 1.  1. 10.  4.  4.  5.  3.  7.  9.  8.]]\n",
      "trg :\n",
      "[[ 1.  9.  7.  1.  2. 10.  3.  8.  8.]\n",
      " [ 1.  1. 10.  4.  4.  5.  3.  7.  9.]]\n",
      "trg_y :\n",
      "[[ 9.  7.  1.  2. 10.  3.  8.  8.  9.]\n",
      " [ 1. 10.  4.  4.  5.  3.  7.  9.  8.]]\n"
     ]
    }
   ],
   "source": [
    "print('src :')\n",
    "print('{}'.format(dd.src[:2].asnumpy()))\n",
    "print('trg :')\n",
    "print('{}'.format(dd.trg[:2].asnumpy()))\n",
    "print('trg_y :')\n",
    "print('{}'.format(dd.trg_y[:2].asnumpy()))"
   ]
  },
  {
   "cell_type": "code",
   "execution_count": 33,
   "metadata": {},
   "outputs": [
    {
     "name": "stderr",
     "output_type": "stream",
     "text": [
      "2018-11-02 11:11:50,173 - transformer - INFO - Epoch Step: 0 Loss: 0.218706 Tokens per Sec: 2200.570671\n"
     ]
    },
    {
     "name": "stdout",
     "output_type": "stream",
     "text": [
      "--------\n",
      "loss = [59.05057]\n",
      "_pred = [1. 8. 9. 8. 9. 7. 2. 4. 8.]\n",
      "_trg_recover = [10.  8.  9.  8.  9.  5.  9.  7.  7.]\n",
      "--------\n"
     ]
    },
    {
     "name": "stderr",
     "output_type": "stream",
     "text": [
      "2018-11-02 11:11:52,070 - transformer - INFO - Epoch Step: 0 Loss: 0.211297 Tokens per Sec: 2945.131801\n"
     ]
    },
    {
     "name": "stdout",
     "output_type": "stream",
     "text": [
      "--------\n",
      "loss = [57.05013]\n",
      "_pred = [8. 8. 6. 8. 8. 6. 8. 8. 8.]\n",
      "_trg_recover = [ 3.  5. 10.  6.  5.  8.  6. 10. 10.]\n",
      "--------\n"
     ]
    },
    {
     "name": "stderr",
     "output_type": "stream",
     "text": [
      "2018-11-02 11:11:53,951 - transformer - INFO - Epoch Step: 0 Loss: 0.206387 Tokens per Sec: 2979.324453\n"
     ]
    },
    {
     "name": "stdout",
     "output_type": "stream",
     "text": [
      "--------\n",
      "loss = [55.72456]\n",
      "_pred = [8. 8. 8. 6. 6. 8. 8. 8. 6.]\n",
      "_trg_recover = [ 3.  6.  9.  5.  3.  2.  8.  8. 10.]\n",
      "--------\n"
     ]
    },
    {
     "name": "stderr",
     "output_type": "stream",
     "text": [
      "2018-11-02 11:11:55,778 - transformer - INFO - Epoch Step: 0 Loss: 0.206682 Tokens per Sec: 2981.999652\n"
     ]
    },
    {
     "name": "stdout",
     "output_type": "stream",
     "text": [
      "--------\n",
      "loss = [55.804092]\n",
      "_pred = [3. 3. 3. 3. 8. 8. 3. 3. 3.]\n",
      "_trg_recover = [6. 3. 8. 3. 3. 8. 8. 2. 7.]\n",
      "--------\n"
     ]
    },
    {
     "name": "stderr",
     "output_type": "stream",
     "text": [
      "2018-11-02 11:11:57,606 - transformer - INFO - Epoch Step: 0 Loss: 0.206099 Tokens per Sec: 2890.984116\n"
     ]
    },
    {
     "name": "stdout",
     "output_type": "stream",
     "text": [
      "--------\n",
      "loss = [55.646626]\n",
      "_pred = [1. 1. 1. 1. 1. 1. 1. 1. 1.]\n",
      "_trg_recover = [ 2.  6.  7.  1.  9.  1.  1.  5. 10.]\n",
      "--------\n"
     ]
    },
    {
     "name": "stderr",
     "output_type": "stream",
     "text": [
      "2018-11-02 11:11:59,453 - transformer - INFO - Epoch Step: 0 Loss: 0.205989 Tokens per Sec: 2976.028255\n"
     ]
    },
    {
     "name": "stdout",
     "output_type": "stream",
     "text": [
      "--------\n",
      "loss = [55.616993]\n",
      "_pred = [6. 1. 1. 1. 1. 6. 1. 2. 6.]\n",
      "_trg_recover = [1. 6. 6. 3. 2. 1. 5. 1. 2.]\n",
      "--------\n"
     ]
    },
    {
     "name": "stderr",
     "output_type": "stream",
     "text": [
      "2018-11-02 11:12:01,456 - transformer - INFO - Epoch Step: 0 Loss: 0.205266 Tokens per Sec: 2550.400713\n"
     ]
    },
    {
     "name": "stdout",
     "output_type": "stream",
     "text": [
      "--------\n",
      "loss = [55.42178]\n",
      "_pred = [10. 10. 10. 10.  2.  2. 10. 10. 10.]\n",
      "_trg_recover = [ 7.  1.  2. 10.  5.  2.  3. 10. 10.]\n",
      "--------\n"
     ]
    },
    {
     "name": "stderr",
     "output_type": "stream",
     "text": [
      "2018-11-02 11:12:03,311 - transformer - INFO - Epoch Step: 0 Loss: 0.202342 Tokens per Sec: 2946.104846\n"
     ]
    },
    {
     "name": "stdout",
     "output_type": "stream",
     "text": [
      "--------\n",
      "loss = [54.63232]\n",
      "_pred = [2. 2. 9. 9. 9. 2. 9. 9. 2.]\n",
      "_trg_recover = [5. 2. 7. 9. 5. 2. 3. 9. 6.]\n",
      "--------\n"
     ]
    },
    {
     "name": "stderr",
     "output_type": "stream",
     "text": [
      "2018-11-02 11:12:05,184 - transformer - INFO - Epoch Step: 0 Loss: 0.205535 Tokens per Sec: 2902.840855\n"
     ]
    },
    {
     "name": "stdout",
     "output_type": "stream",
     "text": [
      "--------\n",
      "loss = [55.49432]\n",
      "_pred = [6. 6. 6. 6. 6. 6. 6. 6. 6.]\n",
      "_trg_recover = [ 7.  6. 10. 10.  9.  6.  1.  3.  9.]\n",
      "--------\n"
     ]
    },
    {
     "name": "stderr",
     "output_type": "stream",
     "text": [
      "Exception ignored in: <object repr() failed>\n",
      "Traceback (most recent call last):\n",
      "  File \"/opt/venv/lib/python3.6/site-packages/mxnet/_ctypes/ndarray.py\", line 51, in __del__\n",
      "    check_call(_LIB.MXNDArrayFree(self.handle))\n",
      "AttributeError: handle\n",
      "2018-11-02 11:12:07,551 - transformer - INFO - Epoch Step: 0 Loss: 0.202382 Tokens per Sec: 2990.140997\n"
     ]
    },
    {
     "name": "stdout",
     "output_type": "stream",
     "text": [
      "--------\n",
      "loss = [54.64321]\n",
      "_pred = [2. 2. 1. 1. 1. 1. 2. 2. 1.]\n",
      "_trg_recover = [ 5.  2.  9.  2.  4.  1.  1. 10.  3.]\n",
      "--------\n"
     ]
    },
    {
     "name": "stderr",
     "output_type": "stream",
     "text": [
      "2018-11-02 11:12:09,393 - transformer - INFO - Epoch Step: 0 Loss: 0.204000 Tokens per Sec: 2977.702846\n"
     ]
    },
    {
     "name": "stdout",
     "output_type": "stream",
     "text": [
      "--------\n",
      "loss = [55.07994]\n",
      "_pred = [ 2. 10.  2.  2. 10.  2.  2. 10. 10.]\n",
      "_trg_recover = [ 3.  1. 10.  2.  6. 10.  2.  7.  5.]\n",
      "--------\n"
     ]
    },
    {
     "name": "stderr",
     "output_type": "stream",
     "text": [
      "2018-11-02 11:12:11,254 - transformer - INFO - Epoch Step: 0 Loss: 0.203926 Tokens per Sec: 2911.168671\n"
     ]
    },
    {
     "name": "stdout",
     "output_type": "stream",
     "text": [
      "--------\n",
      "loss = [55.06005]\n",
      "_pred = [7. 7. 7. 7. 7. 7. 7. 7. 7.]\n",
      "_trg_recover = [ 9.  7. 10.  5.  7.  7.  2.  5.  8.]\n",
      "--------\n"
     ]
    },
    {
     "name": "stderr",
     "output_type": "stream",
     "text": [
      "2018-11-02 11:12:13,115 - transformer - INFO - Epoch Step: 0 Loss: 0.203728 Tokens per Sec: 2894.257244\n"
     ]
    },
    {
     "name": "stdout",
     "output_type": "stream",
     "text": [
      "--------\n",
      "loss = [55.0066]\n",
      "_pred = [5. 5. 5. 5. 3. 3. 3. 3. 5.]\n",
      "_trg_recover = [10.  3.  8.  5.  6.  1.  5.  2.  3.]\n",
      "--------\n"
     ]
    },
    {
     "name": "stderr",
     "output_type": "stream",
     "text": [
      "2018-11-02 11:12:15,073 - transformer - INFO - Epoch Step: 0 Loss: 0.203339 Tokens per Sec: 2890.268415\n"
     ]
    },
    {
     "name": "stdout",
     "output_type": "stream",
     "text": [
      "--------\n",
      "loss = [54.901546]\n",
      "_pred = [2. 2. 2. 5. 2. 2. 2. 2. 2.]\n",
      "_trg_recover = [4. 2. 2. 1. 5. 2. 5. 9. 8.]\n",
      "--------\n"
     ]
    },
    {
     "name": "stderr",
     "output_type": "stream",
     "text": [
      "2018-11-02 11:12:16,926 - transformer - INFO - Epoch Step: 0 Loss: 0.201550 Tokens per Sec: 2925.971300\n"
     ]
    },
    {
     "name": "stdout",
     "output_type": "stream",
     "text": [
      "--------\n",
      "loss = [54.418438]\n",
      "_pred = [9. 9. 9. 2. 9. 3. 3. 9. 9.]\n",
      "_trg_recover = [ 1.  7.  9. 10.  2.  9.  3.  4.  2.]\n",
      "--------\n"
     ]
    },
    {
     "name": "stderr",
     "output_type": "stream",
     "text": [
      "2018-11-02 11:12:18,752 - transformer - INFO - Epoch Step: 0 Loss: 0.202013 Tokens per Sec: 2969.722449\n"
     ]
    },
    {
     "name": "stdout",
     "output_type": "stream",
     "text": [
      "--------\n",
      "loss = [54.543453]\n",
      "_pred = [6. 8. 8. 3. 3. 3. 3. 3. 8.]\n",
      "_trg_recover = [ 6.  3.  5.  8.  7. 10.  8.  3.  9.]\n",
      "--------\n"
     ]
    },
    {
     "name": "stderr",
     "output_type": "stream",
     "text": [
      "2018-11-02 11:12:20,676 - transformer - INFO - Epoch Step: 0 Loss: 0.201578 Tokens per Sec: 2772.000705\n"
     ]
    },
    {
     "name": "stdout",
     "output_type": "stream",
     "text": [
      "--------\n",
      "loss = [54.426136]\n",
      "_pred = [9. 5. 5. 5. 5. 5. 5. 5. 5.]\n",
      "_trg_recover = [ 9.  6.  5.  5. 10.  5.  9.  4.  6.]\n",
      "--------\n"
     ]
    },
    {
     "name": "stderr",
     "output_type": "stream",
     "text": [
      "2018-11-02 11:12:22,514 - transformer - INFO - Epoch Step: 0 Loss: 0.198035 Tokens per Sec: 2948.981766\n"
     ]
    },
    {
     "name": "stdout",
     "output_type": "stream",
     "text": [
      "--------\n",
      "loss = [53.469448]\n",
      "_pred = [5. 1. 3. 8. 1. 1. 3. 8. 1.]\n",
      "_trg_recover = [5. 6. 2. 3. 8. 1. 3. 8. 1.]\n",
      "--------\n"
     ]
    },
    {
     "name": "stderr",
     "output_type": "stream",
     "text": [
      "2018-11-02 11:12:24,336 - transformer - INFO - Epoch Step: 0 Loss: 0.198948 Tokens per Sec: 2969.917154\n"
     ]
    },
    {
     "name": "stdout",
     "output_type": "stream",
     "text": [
      "--------\n",
      "loss = [53.7159]\n",
      "_pred = [10.  4.  4. 10. 10. 10.  4.  4. 10.]\n",
      "_trg_recover = [10.  5.  4.  3.  8.  2. 10.  4.  9.]\n",
      "--------\n"
     ]
    },
    {
     "name": "stderr",
     "output_type": "stream",
     "text": [
      "2018-11-02 11:12:26,175 - transformer - INFO - Epoch Step: 0 Loss: 0.196433 Tokens per Sec: 2945.828957\n"
     ]
    },
    {
     "name": "stdout",
     "output_type": "stream",
     "text": [
      "--------\n",
      "loss = [53.036785]\n",
      "_pred = [ 2.  2.  2.  2.  8. 10. 10.  8. 10.]\n",
      "_trg_recover = [ 2.  2.  5. 10.  3.  8. 10.  3.  8.]\n",
      "--------\n"
     ]
    },
    {
     "name": "stderr",
     "output_type": "stream",
     "text": [
      "2018-11-02 11:12:28,007 - transformer - INFO - Epoch Step: 0 Loss: 0.195907 Tokens per Sec: 2916.912425\n"
     ]
    },
    {
     "name": "stdout",
     "output_type": "stream",
     "text": [
      "--------\n",
      "loss = [52.894787]\n",
      "_pred = [10.  5.  5.  3.  3.  3.  5.  3.  3.]\n",
      "_trg_recover = [10.  3.  5.  2.  6.  3.  8.  5.  3.]\n",
      "--------\n"
     ]
    },
    {
     "name": "stderr",
     "output_type": "stream",
     "text": [
      "2018-11-02 11:12:29,837 - transformer - INFO - Epoch Step: 0 Loss: 0.193081 Tokens per Sec: 2987.916225\n"
     ]
    },
    {
     "name": "stdout",
     "output_type": "stream",
     "text": [
      "--------\n",
      "loss = [52.131786]\n",
      "_pred = [4. 4. 4. 4. 4. 4. 4. 4. 4.]\n",
      "_trg_recover = [4. 9. 3. 4. 1. 6. 8. 2. 4.]\n",
      "--------\n"
     ]
    },
    {
     "name": "stderr",
     "output_type": "stream",
     "text": [
      "2018-11-02 11:12:31,676 - transformer - INFO - Epoch Step: 0 Loss: 0.188974 Tokens per Sec: 2993.563504\n"
     ]
    },
    {
     "name": "stdout",
     "output_type": "stream",
     "text": [
      "--------\n",
      "loss = [51.023064]\n",
      "_pred = [9. 3. 3. 9. 9. 3. 3. 3. 3.]\n",
      "_trg_recover = [ 9.  2.  3.  4.  7.  9.  8. 10.  3.]\n",
      "--------\n"
     ]
    },
    {
     "name": "stderr",
     "output_type": "stream",
     "text": [
      "2018-11-02 11:12:33,505 - transformer - INFO - Epoch Step: 0 Loss: 0.189626 Tokens per Sec: 3000.257196\n"
     ]
    },
    {
     "name": "stdout",
     "output_type": "stream",
     "text": [
      "--------\n",
      "loss = [51.198975]\n",
      "_pred = [ 2. 10.  2.  2. 10.  2.  2. 10.  2.]\n",
      "_trg_recover = [ 2. 10.  4.  2.  4. 10.  2. 10.  2.]\n",
      "--------\n"
     ]
    },
    {
     "name": "stderr",
     "output_type": "stream",
     "text": [
      "2018-11-02 11:12:35,409 - transformer - INFO - Epoch Step: 0 Loss: 0.184550 Tokens per Sec: 2743.872612\n"
     ]
    },
    {
     "name": "stdout",
     "output_type": "stream",
     "text": [
      "--------\n",
      "loss = [49.828453]\n",
      "_pred = [3. 1. 3. 3. 4. 1. 4. 4. 7.]\n",
      "_trg_recover = [ 3.  1.  1. 10.  5.  6.  8.  4.  7.]\n",
      "--------\n"
     ]
    },
    {
     "name": "stderr",
     "output_type": "stream",
     "text": [
      "2018-11-02 11:12:37,270 - transformer - INFO - Epoch Step: 0 Loss: 0.184668 Tokens per Sec: 2989.114981\n"
     ]
    },
    {
     "name": "stdout",
     "output_type": "stream",
     "text": [
      "--------\n",
      "loss = [49.860455]\n",
      "_pred = [6. 7. 6. 6. 3. 6. 3. 6. 6.]\n",
      "_trg_recover = [6. 2. 7. 6. 3. 6. 7. 3. 4.]\n",
      "--------\n"
     ]
    },
    {
     "name": "stderr",
     "output_type": "stream",
     "text": [
      "2018-11-02 11:12:39,113 - transformer - INFO - Epoch Step: 0 Loss: 0.179686 Tokens per Sec: 2937.126733\n"
     ]
    },
    {
     "name": "stdout",
     "output_type": "stream",
     "text": [
      "--------\n",
      "loss = [48.51517]\n",
      "_pred = [10.  7.  7.  1.  7.  7.  7.  7.  2.]\n",
      "_trg_recover = [10.  8.  7.  1.  1. 10.  4.  7.  2.]\n",
      "--------\n"
     ]
    },
    {
     "name": "stderr",
     "output_type": "stream",
     "text": [
      "2018-11-02 11:12:40,947 - transformer - INFO - Epoch Step: 0 Loss: 0.178234 Tokens per Sec: 2886.158159\n"
     ]
    },
    {
     "name": "stdout",
     "output_type": "stream",
     "text": [
      "--------\n",
      "loss = [48.12307]\n",
      "_pred = [ 7. 10. 10. 10.  8.  7.  7.  7.  7.]\n",
      "_trg_recover = [ 7.  3.  8. 10.  8.  7.  9.  7. 10.]\n",
      "--------\n"
     ]
    },
    {
     "name": "stderr",
     "output_type": "stream",
     "text": [
      "2018-11-02 11:12:42,783 - transformer - INFO - Epoch Step: 0 Loss: 0.175747 Tokens per Sec: 2974.418045\n"
     ]
    },
    {
     "name": "stdout",
     "output_type": "stream",
     "text": [
      "--------\n",
      "loss = [47.451653]\n",
      "_pred = [4. 4. 6. 6. 8. 4. 4. 4. 4.]\n",
      "_trg_recover = [1. 4. 6. 6. 2. 8. 3. 4. 4.]\n",
      "--------\n"
     ]
    },
    {
     "name": "stderr",
     "output_type": "stream",
     "text": [
      "2018-11-02 11:12:44,620 - transformer - INFO - Epoch Step: 0 Loss: 0.171626 Tokens per Sec: 2906.692881\n"
     ]
    },
    {
     "name": "stdout",
     "output_type": "stream",
     "text": [
      "--------\n",
      "loss = [46.339073]\n",
      "_pred = [1. 3. 4. 4. 7. 7. 7. 7. 7.]\n",
      "_trg_recover = [1. 3. 7. 4. 4. 7. 9. 7. 2.]\n",
      "--------\n"
     ]
    },
    {
     "name": "stderr",
     "output_type": "stream",
     "text": [
      "2018-11-02 11:12:46,457 - transformer - INFO - Epoch Step: 0 Loss: 0.165168 Tokens per Sec: 2881.942227\n"
     ]
    },
    {
     "name": "stdout",
     "output_type": "stream",
     "text": [
      "--------\n",
      "loss = [44.595345]\n",
      "_pred = [1. 5. 5. 4. 5. 8. 5. 8. 5.]\n",
      "_trg_recover = [1. 5. 2. 4. 5. 8. 5. 8. 9.]\n",
      "--------\n"
     ]
    },
    {
     "name": "stderr",
     "output_type": "stream",
     "text": [
      "2018-11-02 11:12:48,354 - transformer - INFO - Epoch Step: 0 Loss: 0.165804 Tokens per Sec: 2952.195203\n"
     ]
    },
    {
     "name": "stdout",
     "output_type": "stream",
     "text": [
      "--------\n",
      "loss = [44.766994]\n",
      "_pred = [9. 8. 8. 8. 3. 2. 3. 6. 6.]\n",
      "_trg_recover = [ 9.  8.  8.  8.  3.  2. 10.  1.  6.]\n",
      "--------\n"
     ]
    },
    {
     "name": "stderr",
     "output_type": "stream",
     "text": [
      "2018-11-02 11:12:50,246 - transformer - INFO - Epoch Step: 0 Loss: 0.160839 Tokens per Sec: 2665.055609\n"
     ]
    },
    {
     "name": "stdout",
     "output_type": "stream",
     "text": [
      "--------\n",
      "loss = [43.426598]\n",
      "_pred = [9. 5. 1. 5. 2. 1. 5. 1. 1.]\n",
      "_trg_recover = [ 9.  5.  1. 10.  2.  1.  5.  5.  1.]\n",
      "--------\n"
     ]
    },
    {
     "name": "stderr",
     "output_type": "stream",
     "text": [
      "2018-11-02 11:12:52,118 - transformer - INFO - Epoch Step: 0 Loss: 0.155661 Tokens per Sec: 2906.506378\n"
     ]
    },
    {
     "name": "stdout",
     "output_type": "stream",
     "text": [
      "--------\n",
      "loss = [42.02855]\n",
      "_pred = [ 2.  7.  7.  9.  4.  7. 10.  8.  8.]\n",
      "_trg_recover = [ 2.  7.  7.  9.  4.  7. 10.  4.  8.]\n",
      "--------\n"
     ]
    },
    {
     "name": "stderr",
     "output_type": "stream",
     "text": [
      "2018-11-02 11:12:53,959 - transformer - INFO - Epoch Step: 0 Loss: 0.155777 Tokens per Sec: 2949.127680\n"
     ]
    },
    {
     "name": "stdout",
     "output_type": "stream",
     "text": [
      "--------\n",
      "loss = [42.059845]\n",
      "_pred = [7. 7. 7. 6. 3. 3. 5. 5. 4.]\n",
      "_trg_recover = [7. 7. 5. 6. 9. 3. 5. 5. 4.]\n",
      "--------\n"
     ]
    },
    {
     "name": "stderr",
     "output_type": "stream",
     "text": [
      "2018-11-02 11:12:55,795 - transformer - INFO - Epoch Step: 0 Loss: 0.158152 Tokens per Sec: 2934.075224\n"
     ]
    },
    {
     "name": "stdout",
     "output_type": "stream",
     "text": [
      "--------\n",
      "loss = [42.70104]\n",
      "_pred = [ 3.  8. 10.  8.  8.  5.  6.  7.  4.]\n",
      "_trg_recover = [ 3.  8. 10.  4.  8.  5.  6.  7.  4.]\n",
      "--------\n"
     ]
    },
    {
     "name": "stderr",
     "output_type": "stream",
     "text": [
      "2018-11-02 11:12:57,632 - transformer - INFO - Epoch Step: 0 Loss: 0.154199 Tokens per Sec: 2883.189564\n"
     ]
    },
    {
     "name": "stdout",
     "output_type": "stream",
     "text": [
      "--------\n",
      "loss = [41.633743]\n",
      "_pred = [10. 10.  3. 10.  9. 10.  1.  8.  8.]\n",
      "_trg_recover = [ 1. 10.  3. 10.  9.  8.  1.  4.  8.]\n",
      "--------\n"
     ]
    },
    {
     "name": "stderr",
     "output_type": "stream",
     "text": [
      "2018-11-02 11:12:59,463 - transformer - INFO - Epoch Step: 0 Loss: 0.153103 Tokens per Sec: 2950.764436\n"
     ]
    },
    {
     "name": "stdout",
     "output_type": "stream",
     "text": [
      "--------\n",
      "loss = [41.337692]\n",
      "_pred = [3. 1. 2. 7. 5. 7. 4. 1. 3.]\n",
      "_trg_recover = [3. 1. 2. 7. 5. 7. 4. 1. 3.]\n",
      "--------\n"
     ]
    },
    {
     "name": "stderr",
     "output_type": "stream",
     "text": [
      "2018-11-02 11:13:01,292 - transformer - INFO - Epoch Step: 0 Loss: 0.151223 Tokens per Sec: 2982.400169\n"
     ]
    },
    {
     "name": "stdout",
     "output_type": "stream",
     "text": [
      "--------\n",
      "loss = [40.830086]\n",
      "_pred = [10.  5. 10.  6.  6.  1.  9.  1.  6.]\n",
      "_trg_recover = [10.  5. 10.  6.  6.  1.  9.  1.  6.]\n",
      "--------\n"
     ]
    },
    {
     "name": "stderr",
     "output_type": "stream",
     "text": [
      "2018-11-02 11:13:03,130 - transformer - INFO - Epoch Step: 0 Loss: 0.148655 Tokens per Sec: 2900.350307\n"
     ]
    },
    {
     "name": "stdout",
     "output_type": "stream",
     "text": [
      "--------\n",
      "loss = [40.136833]\n",
      "_pred = [3. 5. 1. 9. 9. 9. 5. 4. 4.]\n",
      "_trg_recover = [3. 5. 1. 1. 9. 9. 5. 5. 4.]\n",
      "--------\n"
     ]
    },
    {
     "name": "stderr",
     "output_type": "stream",
     "text": [
      "2018-11-02 11:13:05,005 - transformer - INFO - Epoch Step: 0 Loss: 0.150863 Tokens per Sec: 2979.394998\n"
     ]
    },
    {
     "name": "stdout",
     "output_type": "stream",
     "text": [
      "--------\n",
      "loss = [40.73292]\n",
      "_pred = [4. 3. 9. 4. 1. 1. 4. 6. 4.]\n",
      "_trg_recover = [4. 3. 9. 4. 2. 1. 4. 6. 4.]\n",
      "--------\n"
     ]
    },
    {
     "name": "stderr",
     "output_type": "stream",
     "text": [
      "2018-11-02 11:13:06,833 - transformer - INFO - Epoch Step: 0 Loss: 0.148167 Tokens per Sec: 2987.411773\n"
     ]
    },
    {
     "name": "stdout",
     "output_type": "stream",
     "text": [
      "--------\n",
      "loss = [40.005127]\n",
      "_pred = [ 3.  6.  1.  6.  9.  6.  5. 10.  1.]\n",
      "_trg_recover = [ 3.  6.  1.  6.  9.  6.  5. 10.  1.]\n",
      "--------\n"
     ]
    },
    {
     "name": "stderr",
     "output_type": "stream",
     "text": [
      "2018-11-02 11:13:08,676 - transformer - INFO - Epoch Step: 0 Loss: 0.149016 Tokens per Sec: 2910.398063\n"
     ]
    },
    {
     "name": "stdout",
     "output_type": "stream",
     "text": [
      "--------\n",
      "loss = [40.23438]\n",
      "_pred = [10.  4.  5.  7.  2.  5.  1.  1.  2.]\n",
      "_trg_recover = [10.  4.  5.  7.  2.  5.  1.  1.  2.]\n",
      "--------\n"
     ]
    },
    {
     "name": "stderr",
     "output_type": "stream",
     "text": [
      "2018-11-02 11:13:10,505 - transformer - INFO - Epoch Step: 0 Loss: 0.145862 Tokens per Sec: 2977.929921\n"
     ]
    },
    {
     "name": "stdout",
     "output_type": "stream",
     "text": [
      "--------\n",
      "loss = [39.382618]\n",
      "_pred = [ 5.  6.  3. 10.  3.  5.  7.  3.  4.]\n",
      "_trg_recover = [ 5.  6.  3. 10.  3.  5.  7.  3.  4.]\n",
      "--------\n"
     ]
    },
    {
     "name": "stderr",
     "output_type": "stream",
     "text": [
      "2018-11-02 11:13:12,334 - transformer - INFO - Epoch Step: 0 Loss: 0.147167 Tokens per Sec: 2975.035347\n"
     ]
    },
    {
     "name": "stdout",
     "output_type": "stream",
     "text": [
      "--------\n",
      "loss = [39.73509]\n",
      "_pred = [3. 8. 7. 9. 5. 1. 6. 9. 7.]\n",
      "_trg_recover = [3. 8. 7. 9. 5. 1. 6. 9. 7.]\n",
      "--------\n"
     ]
    },
    {
     "name": "stderr",
     "output_type": "stream",
     "text": [
      "2018-11-02 11:13:14,194 - transformer - INFO - Epoch Step: 0 Loss: 0.146610 Tokens per Sec: 2903.272489\n"
     ]
    },
    {
     "name": "stdout",
     "output_type": "stream",
     "text": [
      "--------\n",
      "loss = [39.584625]\n",
      "_pred = [4. 2. 4. 5. 9. 5. 5. 9. 1.]\n",
      "_trg_recover = [4. 2. 4. 5. 9. 5. 5. 9. 1.]\n",
      "--------\n"
     ]
    },
    {
     "name": "stderr",
     "output_type": "stream",
     "text": [
      "2018-11-02 11:13:16,129 - transformer - INFO - Epoch Step: 0 Loss: 0.148150 Tokens per Sec: 2966.198817\n"
     ]
    },
    {
     "name": "stdout",
     "output_type": "stream",
     "text": [
      "--------\n",
      "loss = [40.000412]\n",
      "_pred = [ 4.  6. 10.  9.  2.  6.  7.  1.  6.]\n",
      "_trg_recover = [ 4.  6. 10.  9.  2.  6.  7.  1.  6.]\n",
      "--------\n"
     ]
    },
    {
     "name": "stderr",
     "output_type": "stream",
     "text": [
      "2018-11-02 11:13:17,959 - transformer - INFO - Epoch Step: 0 Loss: 0.147608 Tokens per Sec: 2987.845276\n"
     ]
    },
    {
     "name": "stdout",
     "output_type": "stream",
     "text": [
      "--------\n",
      "loss = [39.85413]\n",
      "_pred = [ 8.  3.  2.  3.  9.  1. 10.  7.  4.]\n",
      "_trg_recover = [ 8.  3.  2.  3.  9.  1. 10.  7.  4.]\n",
      "--------\n"
     ]
    },
    {
     "name": "stderr",
     "output_type": "stream",
     "text": [
      "2018-11-02 11:13:19,791 - transformer - INFO - Epoch Step: 0 Loss: 0.148782 Tokens per Sec: 3002.460589\n"
     ]
    },
    {
     "name": "stdout",
     "output_type": "stream",
     "text": [
      "--------\n",
      "loss = [40.17114]\n",
      "_pred = [7. 4. 5. 9. 3. 3. 3. 7. 4.]\n",
      "_trg_recover = [ 7.  4.  5.  9.  4.  3. 10.  7.  4.]\n",
      "--------\n"
     ]
    },
    {
     "name": "stderr",
     "output_type": "stream",
     "text": [
      "2018-11-02 11:13:21,621 - transformer - INFO - Epoch Step: 0 Loss: 0.147410 Tokens per Sec: 2997.795137\n"
     ]
    },
    {
     "name": "stdout",
     "output_type": "stream",
     "text": [
      "--------\n",
      "loss = [39.800613]\n",
      "_pred = [ 1.  1.  5.  2.  2.  6.  8.  5. 10.]\n",
      "_trg_recover = [ 1.  8.  5.  7.  2.  6.  8.  5. 10.]\n",
      "--------\n"
     ]
    }
   ],
   "source": [
    "\n",
    "for epoch in range(50):\n",
    "    run_epoch(data_gen(V, batch, n_batch, in_seq_len, ctx = ctx), model, trainer, loss, ctx = ctx)"
   ]
  },
  {
   "cell_type": "code",
   "execution_count": 80,
   "metadata": {},
   "outputs": [
    {
     "name": "stdout",
     "output_type": "stream",
     "text": [
      "src = \n",
      "[[ 1.  5.  2.  3.  4.  5.  7.  8.  9. 10.]]\n",
      "<NDArray 1x10 @gpu(0)>\n",
      "tgt = \n",
      "[[ 1.  5.  2.  3.  4.  5.  7.  8.  9. 10.]]\n",
      "<NDArray 1x10 @gpu(0)>\n"
     ]
    }
   ],
   "source": [
    "def greedy_decode(model, src, src_mask, max_len, start_symbol):\n",
    "    memory = model.encode(src, src_mask)\n",
    "    ys = nd.array([[start_symbol]], ctx = ctx)\n",
    "    for i in range(max_len):\n",
    "        out = model.decode(memory, src_mask, ys, subsequent_mask(ys.shape[1]))\n",
    "        next_word = nd.argmax(out, axis = 2)\n",
    "        ys = nd.concat(ys, next_word[:,-1].expand_dims(axis = 1), dim = 1)\n",
    "    return ys\n",
    "\n",
    "src = nd.array([[1,5,2,3,4,5,7,8,9,10]], ctx = ctx)\n",
    "print('src = {}'.format(src))\n",
    "src_mask = nd.ones_like(src)\n",
    "with autograd.predict_mode():\n",
    "    res = greedy_decode(model, src, src_mask, max_len=9, start_symbol=1)\n",
    "print('tgt = {}'.format(res))"
   ]
  }
 ],
 "metadata": {
  "kernelspec": {
   "display_name": "Python 3",
   "language": "python",
   "name": "python3"
  },
  "language_info": {
   "codemirror_mode": {
    "name": "ipython",
    "version": 3
   },
   "file_extension": ".py",
   "mimetype": "text/x-python",
   "name": "python",
   "nbconvert_exporter": "python",
   "pygments_lexer": "ipython3",
   "version": "3.6.5"
  }
 },
 "nbformat": 4,
 "nbformat_minor": 2
}
