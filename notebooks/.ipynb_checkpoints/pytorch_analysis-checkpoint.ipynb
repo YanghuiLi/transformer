{
 "cells": [
  {
   "cell_type": "code",
   "execution_count": 1,
   "metadata": {},
   "outputs": [],
   "source": [
    "import torch\n",
    "import numpy as np\n",
    "import math\n",
    "import torch.nn.functional as F"
   ]
  },
  {
   "cell_type": "markdown",
   "metadata": {},
   "source": [
    "### Attention"
   ]
  },
  {
   "cell_type": "code",
   "execution_count": 2,
   "metadata": {},
   "outputs": [],
   "source": [
    "def attention(query, key, value, mask=None, dropout=None):\n",
    "    \"Compute 'Scaled Dot Product Attention'\"\n",
    "    d_k = query.size(-1)\n",
    "    print('embedding dim = {}'.format(d_k))\n",
    "    scores = torch.matmul(query, key.transpose(-2, -1)) \\\n",
    "             / math.sqrt(d_k)\n",
    "    print('scores dim = {}'.format(scores.shape))\n",
    "    if mask is not None:\n",
    "        scores = scores.masked_fill(mask == 0, -1e9)\n",
    "    p_attn = F.softmax(scores, dim = -1)\n",
    "    if dropout is not None:\n",
    "        p_attn = dropout(p_attn)\n",
    "    return torch.matmul(p_attn, value), p_attn"
   ]
  },
  {
   "cell_type": "code",
   "execution_count": 3,
   "metadata": {},
   "outputs": [],
   "source": [
    "# Batch * n_queries * embedding_dim\n",
    "query, key, value  = torch.tensor(np.ones((16, 5, 10))), \\\n",
    "torch.tensor(np.ones((16, 5, 10))), \\\n",
    "torch.tensor(np.ones((16, 5, 10)))"
   ]
  },
  {
   "cell_type": "code",
   "execution_count": 5,
   "metadata": {},
   "outputs": [
    {
     "name": "stdout",
     "output_type": "stream",
     "text": [
      "embedding dim = 10\n",
      "scores dim = torch.Size([16, 5, 5])\n"
     ]
    }
   ],
   "source": [
    "res = attention(query, key, value)"
   ]
  },
  {
   "cell_type": "code",
   "execution_count": 6,
   "metadata": {},
   "outputs": [
    {
     "data": {
      "text/plain": [
       "[torch.Size([16, 5, 10]), torch.Size([16, 5, 5])]"
      ]
     },
     "execution_count": 6,
     "metadata": {},
     "output_type": "execute_result"
    }
   ],
   "source": [
    "[x.shape for x in res]"
   ]
  },
  {
   "cell_type": "markdown",
   "metadata": {},
   "source": [
    "### MultiHeadedAttention"
   ]
  },
  {
   "cell_type": "code",
   "execution_count": 7,
   "metadata": {},
   "outputs": [],
   "source": [
    "class MultiHeadedAttention(torch.nn.Module):\n",
    "    def __init__(self, h, d_model, dropout=0.1):\n",
    "        \"Take in model size and number of heads.\"\n",
    "        super(MultiHeadedAttention, self).__init__()\n",
    "        assert d_model % h == 0\n",
    "        # We assume d_v always equals d_k\n",
    "        self.d_k = d_model // h\n",
    "        self.h = h\n",
    "        self.linears = clones(torch.nn.Linear(d_model, d_model), 4)\n",
    "        self.attn = None\n",
    "        self.dropout = torch.nn.Dropout(p=dropout)\n",
    "        \n",
    "    def forward(self, query, key, value, mask=None):\n",
    "        \"Implements Figure 2\"\n",
    "        if mask is not None:\n",
    "            # Same mask applied to all h heads.\n",
    "            mask = mask.unsqueeze(1)\n",
    "        nbatches = query.size(0)\n",
    "        print('query shape = {}'.format(query.shape))\n",
    "        # 1) Do all the linear projections in batch from d_model => h x d_k \n",
    "        query, key, value = \\\n",
    "            [l(x).view(nbatches, -1, self.h, self.d_k).transpose(1, 2)\n",
    "             for l, x in zip(self.linears, (query, key, value))]\n",
    "        \n",
    "        print('query shape = {}'.format(query.shape))\n",
    "        # 2) Apply attention on all the projected vectors in batch. \n",
    "        x, self.attn = attention(query, key, value, mask=mask, \n",
    "                                 dropout=self.dropout)\n",
    "        print('x shape = {}'.format(x.shape))\n",
    "        print('self.attn shape = {}'.format(self.attn.shape))\n",
    "        # 3) \"Concat\" using a view and apply a final linear. \n",
    "        x = x.transpose(1, 2).contiguous() \\\n",
    "             .view(nbatches, -1, self.h * self.d_k)\n",
    "        return self.linears[-1](x)"
   ]
  },
  {
   "cell_type": "code",
   "execution_count": 8,
   "metadata": {},
   "outputs": [],
   "source": [
    "import copy\n",
    "def clones(module, N):\n",
    "    \"Produce N identical layers.\"\n",
    "    return torch.nn.ModuleList([copy.deepcopy(module) for _ in range(N)])"
   ]
  },
  {
   "cell_type": "code",
   "execution_count": 9,
   "metadata": {},
   "outputs": [],
   "source": [
    "# Batch * n_queries * embedding_dim\n",
    "n_batch = 16\n",
    "n_query = 10\n",
    "n_emb = 20\n",
    "\n",
    "mlh = MultiHeadedAttention(2, n_emb)"
   ]
  },
  {
   "cell_type": "code",
   "execution_count": 10,
   "metadata": {},
   "outputs": [],
   "source": [
    "\n",
    "query, key, value  = torch.tensor(np.ones((n_batch, n_query, n_emb))), \\\n",
    "torch.tensor(np.ones((n_batch, n_query, n_emb))), \\\n",
    "torch.tensor(np.ones((n_batch, n_query, n_emb)))"
   ]
  },
  {
   "cell_type": "code",
   "execution_count": 11,
   "metadata": {},
   "outputs": [
    {
     "name": "stdout",
     "output_type": "stream",
     "text": [
      "query shape = torch.Size([16, 10, 20])\n",
      "query shape = torch.Size([16, 2, 10, 10])\n",
      "embedding dim = 10\n",
      "scores dim = torch.Size([16, 2, 10, 10])\n",
      "x shape = torch.Size([16, 2, 10, 10])\n",
      "self.attn shape = torch.Size([16, 2, 10, 10])\n"
     ]
    }
   ],
   "source": [
    "res = mlh(query.float(), key.float(), value.float())"
   ]
  },
  {
   "cell_type": "code",
   "execution_count": 12,
   "metadata": {},
   "outputs": [
    {
     "name": "stdout",
     "output_type": "stream",
     "text": [
      "16\n",
      "[torch.Size([10, 20]), torch.Size([10, 20]), torch.Size([10, 20]), torch.Size([10, 20]), torch.Size([10, 20]), torch.Size([10, 20]), torch.Size([10, 20]), torch.Size([10, 20]), torch.Size([10, 20]), torch.Size([10, 20]), torch.Size([10, 20]), torch.Size([10, 20]), torch.Size([10, 20]), torch.Size([10, 20]), torch.Size([10, 20]), torch.Size([10, 20])]\n"
     ]
    }
   ],
   "source": [
    "print(len(res))\n",
    "print([x.shape for x in res])"
   ]
  },
  {
   "cell_type": "markdown",
   "metadata": {},
   "source": [
    "### Difference in Linear Layer in Torch and Dense in MXNet"
   ]
  },
  {
   "cell_type": "code",
   "execution_count": 14,
   "metadata": {},
   "outputs": [
    {
     "name": "stdout",
     "output_type": "stream",
     "text": [
      "Linear(in_features=5, out_features=5, bias=True)\n",
      "tensor([[[ 0.,  1.,  2.,  3.,  4.],\n",
      "         [ 5.,  6.,  7.,  8.,  9.],\n",
      "         [10., 11., 12., 13., 14.]],\n",
      "\n",
      "        [[15., 16., 17., 18., 19.],\n",
      "         [20., 21., 22., 23., 24.],\n",
      "         [25., 26., 27., 28., 29.]]])\n",
      "torch.Size([2, 3, 5])\n",
      "tensor([[[ 17.,  17.,  17.,  17.,  17.],\n",
      "         [ 42.,  42.,  42.,  42.,  42.],\n",
      "         [ 67.,  67.,  67.,  67.,  67.]],\n",
      "\n",
      "        [[ 92.,  92.,  92.,  92.,  92.],\n",
      "         [117., 117., 117., 117., 117.],\n",
      "         [142., 142., 142., 142., 142.]]], grad_fn=<ThAddBackward>)\n"
     ]
    }
   ],
   "source": [
    "input = torch.tensor(np.array(range(30)).reshape((2, 3, 5))).float()\n",
    "#input = torch.tensor(np.array(range(10)).reshape((2, 5))).float()\n",
    "\n",
    "lin = torch.nn.Linear(5, 5)\n",
    "lin.weight.data = torch.tensor(np.ones((5,5))).float()\n",
    "lin.bias.data = torch.tensor(7).float()\n",
    "print(lin)\n",
    "out = lin(input)\n",
    "\n",
    "print(input)\n",
    "print(out.shape)\n",
    "print(out)"
   ]
  },
  {
   "cell_type": "code",
   "execution_count": 15,
   "metadata": {},
   "outputs": [],
   "source": [
    "from mxnet import nd, autograd\n",
    "from mxnet.gluon import nn"
   ]
  },
  {
   "cell_type": "code",
   "execution_count": 16,
   "metadata": {},
   "outputs": [
    {
     "data": {
      "text/plain": [
       "\n",
       "[[101. 101.]]\n",
       "<NDArray 1x2 @cpu(0)>"
      ]
     },
     "execution_count": 16,
     "metadata": {},
     "output_type": "execute_result"
    }
   ],
   "source": [
    "# Create a layer\n",
    "net = nn.Dense(2, in_units=100, use_bias=True)\n",
    "net.initialize()\n",
    "# Update the weights of a layer\n",
    "net.weight.set_data(nd.ones((2,100)))\n",
    "net.bias.set_data(nd.ones((2)))\n",
    "\n",
    "net(nd.ones((1,100)))"
   ]
  },
  {
   "cell_type": "code",
   "execution_count": 17,
   "metadata": {},
   "outputs": [
    {
     "name": "stdout",
     "output_type": "stream",
     "text": [
      "Dense(5 -> 5, linear)\n",
      "\n",
      "[[ 0.  1.  2.  3.  4.]\n",
      " [ 5.  6.  7.  8.  9.]\n",
      " [10. 11. 12. 13. 14.]\n",
      " [15. 16. 17. 18. 19.]\n",
      " [20. 21. 22. 23. 24.]\n",
      " [25. 26. 27. 28. 29.]]\n",
      "<NDArray 6x5 @cpu(0)>\n",
      "(6, 5)\n",
      "\n",
      "[[ 17.  17.  17.  17.  17.]\n",
      " [ 42.  42.  42.  42.  42.]\n",
      " [ 67.  67.  67.  67.  67.]\n",
      " [ 92.  92.  92.  92.  92.]\n",
      " [117. 117. 117. 117. 117.]\n",
      " [142. 142. 142. 142. 142.]]\n",
      "<NDArray 6x5 @cpu(0)>\n",
      "\n",
      "[[[ 17.  17.  17.  17.  17.]\n",
      "  [ 42.  42.  42.  42.  42.]\n",
      "  [ 67.  67.  67.  67.  67.]]\n",
      "\n",
      " [[ 92.  92.  92.  92.  92.]\n",
      "  [117. 117. 117. 117. 117.]\n",
      "  [142. 142. 142. 142. 142.]]]\n",
      "<NDArray 2x3x5 @cpu(0)>\n"
     ]
    }
   ],
   "source": [
    "_in = nd.array(range(30)).reshape((2, 3, 5))\n",
    "#_in = nd.array(range(10)).reshape((2, 5))\n",
    "_in = _in.reshape(-1, 5)\n",
    "dense = nn.Dense(5, in_units = 5)\n",
    "dense.collect_params().initialize()\n",
    "dense.weight.set_data(nd.ones((5,5)))\n",
    "dense.bias.set_data(nd.ones((5))*7)\n",
    "\n",
    "print(dense)\n",
    "print(_in)\n",
    "out = dense(_in)\n",
    "print(out.shape)\n",
    "print(out)\n",
    "\n",
    "out1 = out.reshape((2, 3, 5))\n",
    "print(out1)"
   ]
  },
  {
   "cell_type": "markdown",
   "metadata": {},
   "source": [
    "### Label Smoothing"
   ]
  },
  {
   "cell_type": "code",
   "execution_count": 18,
   "metadata": {},
   "outputs": [
    {
     "name": "stdout",
     "output_type": "stream",
     "text": [
      "tensor([[   -inf, -1.6094, -0.3567, -2.3026,    -inf],\n",
      "        [   -inf, -1.6094, -0.3567, -2.3026,    -inf],\n",
      "        [   -inf, -1.6094, -0.3567, -2.3026,    -inf]])\n"
     ]
    }
   ],
   "source": [
    "predict = torch.FloatTensor([[0, 0.2, 0.7, 0.1, 0],\n",
    "                             [0, 0.2, 0.7, 0.1, 0], \n",
    "                             [0, 0.2, 0.7, 0.1, 0]])\n",
    "print(predict.log())"
   ]
  },
  {
   "cell_type": "code",
   "execution_count": 350,
   "metadata": {},
   "outputs": [],
   "source": [
    "# a.dim() => return dimension\n",
    "# torch.scatter_\n",
    "#  - torch.zeros(2, 4).scatter_(1, torch.LongTensor([[2], [3]]), 1.23)\n",
    "#  - nd.scatter_nd(nd.array([1.23,1.23]), nd.array([[0,1],[2,3]]), (2,4))\n",
    "# Fill o\n",
    "#  - torch: true_dist.index_fill_(0, mask.squeeze(), 0.0)\n",
    "#  - mxnet: true_dist[mask, :] = 0\n",
    "\n",
    "class LabelSmoothing(torch.nn.Module):\n",
    "    \"Implement label smoothing.\"\n",
    "    def __init__(self, size, padding_idx, smoothing=0.0):\n",
    "        super(LabelSmoothing, self).__init__()\n",
    "        self.criterion = torch.nn.KLDivLoss(size_average=False)\n",
    "        self.padding_idx = padding_idx\n",
    "        self.confidence = 1.0 - smoothing\n",
    "        self.smoothing = smoothing\n",
    "        self.size = size\n",
    "        self.true_dist = None\n",
    "        \n",
    "    def forward(self, x, target):\n",
    "        assert x.size(1) == self.size\n",
    "        true_dist = x.data.clone()\n",
    "        print('true list ={}'.format(true_dist))\n",
    "        true_dist.fill_(self.smoothing / (self.size - 2))\n",
    "        print('true list after fill ={}'.format(true_dist))\n",
    "        print('target = {}'.format(target))\n",
    "        print('target = {}'.format(target.data.unsqueeze(1)))\n",
    "        \n",
    "        true_dist.scatter_(1, target.data.unsqueeze(1), self.confidence)\n",
    "        print('arget.data.unsqueeze(1) = {}'.format(target.data.unsqueeze(1)))\n",
    "        print('confidence = {}'.format(self.confidence))\n",
    "        print('true list after scatter ={}'.format(true_dist))\n",
    "        true_dist[:, self.padding_idx] = 0\n",
    "        print('true list after padding ={}'.format(true_dist))\n",
    "        mask = torch.nonzero(target.data == self.padding_idx)\n",
    "        print('target data= {}'.format(target.data))\n",
    "        print('mask = {}'.format(mask))\n",
    "        print('true list after mask ={}'.format(true_dist))\n",
    "        if mask.dim() > 0:\n",
    "            true_dist.index_fill_(0, mask.squeeze(), 0.0)\n",
    "            print('true list after masking ={}'.format(true_dist))\n",
    "            \n",
    "        self.true_dist = true_dist\n",
    "        print('x = {}'.format(x))\n",
    "        print('true list ={}'.format(true_dist))\n",
    "        print('loss = {}'.format(self.criterion(x, torch.tensor(true_dist, requires_grad=False))))\n",
    "        return self.criterion(x, torch.tensor(true_dist, requires_grad=False))"
   ]
  },
  {
   "cell_type": "code",
   "execution_count": 351,
   "metadata": {},
   "outputs": [
    {
     "name": "stderr",
     "output_type": "stream",
     "text": [
      "/opt/venv/lib/python3.6/site-packages/torch/nn/functional.py:52: UserWarning: size_average and reduce args will be deprecated, please use reduction='sum' instead.\n",
      "  warnings.warn(warning.format(ret))\n"
     ]
    }
   ],
   "source": [
    "# Example of label smoothing.\n",
    "crit = LabelSmoothing(5, 0, 0.4)"
   ]
  },
  {
   "cell_type": "code",
   "execution_count": 352,
   "metadata": {
    "scrolled": false
   },
   "outputs": [
    {
     "name": "stdout",
     "output_type": "stream",
     "text": [
      "true list =tensor([[0.0000, 0.2000, 0.7000, 0.1000, 0.0000],\n",
      "        [0.0000, 0.2000, 0.7000, 0.1000, 0.0000],\n",
      "        [0.0000, 0.2000, 0.7000, 0.1000, 0.0000]])\n",
      "true list after fill =tensor([[0.1333, 0.1333, 0.1333, 0.1333, 0.1333],\n",
      "        [0.1333, 0.1333, 0.1333, 0.1333, 0.1333],\n",
      "        [0.1333, 0.1333, 0.1333, 0.1333, 0.1333]])\n",
      "target = tensor([2, 1, 0])\n",
      "target = tensor([[2],\n",
      "        [1],\n",
      "        [0]])\n",
      "arget.data.unsqueeze(1) = tensor([[2],\n",
      "        [1],\n",
      "        [0]])\n",
      "confidence = 0.6\n",
      "true list after scatter =tensor([[0.1333, 0.1333, 0.6000, 0.1333, 0.1333],\n",
      "        [0.1333, 0.6000, 0.1333, 0.1333, 0.1333],\n",
      "        [0.6000, 0.1333, 0.1333, 0.1333, 0.1333]])\n",
      "true list after padding =tensor([[0.0000, 0.1333, 0.6000, 0.1333, 0.1333],\n",
      "        [0.0000, 0.6000, 0.1333, 0.1333, 0.1333],\n",
      "        [0.0000, 0.1333, 0.1333, 0.1333, 0.1333]])\n",
      "target data= tensor([2, 1, 0])\n",
      "mask = tensor([[2]])\n",
      "true list after mask =tensor([[0.0000, 0.1333, 0.6000, 0.1333, 0.1333],\n",
      "        [0.0000, 0.6000, 0.1333, 0.1333, 0.1333],\n",
      "        [0.0000, 0.1333, 0.1333, 0.1333, 0.1333]])\n",
      "true list after masking =tensor([[0.0000, 0.1333, 0.6000, 0.1333, 0.1333],\n",
      "        [0.0000, 0.6000, 0.1333, 0.1333, 0.1333],\n",
      "        [0.0000, 0.0000, 0.0000, 0.0000, 0.0000]])\n",
      "x = tensor([[0.0000, 0.2000, 0.7000, 0.1000, 0.0000],\n",
      "        [0.0000, 0.2000, 0.7000, 0.1000, 0.0000],\n",
      "        [0.0000, 0.2000, 0.7000, 0.1000, 0.0000]])\n",
      "true list =tensor([[0.0000, 0.1333, 0.6000, 0.1333, 0.1333],\n",
      "        [0.0000, 0.6000, 0.1333, 0.1333, 0.1333],\n",
      "        [0.0000, 0.0000, 0.0000, 0.0000, 0.0000]])\n",
      "loss = -2.9115798473358154\n"
     ]
    }
   ],
   "source": [
    "predict = torch.FloatTensor([[0, 0.2, 0.7, 0.1, 0],\n",
    "                             [0, 0.2, 0.7, 0.1, 0], \n",
    "                             [0, 0.2, 0.7, 0.1, 0]])\n",
    "v = crit(predict, torch.LongTensor([2, 1, 0]))"
   ]
  },
  {
   "cell_type": "code",
   "execution_count": 307,
   "metadata": {},
   "outputs": [
    {
     "data": {
      "text/plain": [
       "<matplotlib.image.AxesImage at 0x7f8b74e7b6a0>"
      ]
     },
     "execution_count": 307,
     "metadata": {},
     "output_type": "execute_result"
    },
    {
     "data": {
      "image/png": "[encoded data removed]",
      "text/plain": [
       "<Figure size 432x288 with 1 Axes>"
      ]
     },
     "metadata": {},
     "output_type": "display_data"
    }
   ],
   "source": [
    "import matplotlib.pyplot as plt\n",
    "plt.imshow(crit.true_dist)"
   ]
  },
  {
   "cell_type": "code",
   "execution_count": 347,
   "metadata": {},
   "outputs": [],
   "source": [
    "class LabelSmoothing(torch.nn.Module):\n",
    "    \"Implement label smoothing.\"\n",
    "    def __init__(self, size, padding_idx, smoothing=0.0):\n",
    "        super(LabelSmoothing, self).__init__()\n",
    "        self.criterion = torch.nn.KLDivLoss()\n",
    "        self.padding_idx = padding_idx\n",
    "        self.confidence = 1.0 - smoothing\n",
    "        self.smoothing = smoothing\n",
    "        self.size = size\n",
    "        self.true_dist = None\n",
    "        \n",
    "    def forward(self, x, target):\n",
    "        assert x.size(1) == self.size\n",
    "        true_dist = x.data.clone()\n",
    "        true_dist.fill_(self.smoothing / (self.size - 2))\n",
    "        true_dist.scatter_(1, target.data.unsqueeze(1), self.confidence)\n",
    "        true_dist[:, self.padding_idx] = 0\n",
    "        mask = torch.nonzero(target.data == self.padding_idx)\n",
    "        #print('target = {}'.format(target.dim()))\n",
    "        if mask.dim() > 0 and list(mask.size())[0] > 0:\n",
    "            true_dist.index_fill_(0, mask.squeeze(), 0.0)\n",
    "        self.true_dist = true_dist\n",
    "        return self.criterion(x, Variable(true_dist, requires_grad=False))"
   ]
  },
  {
   "cell_type": "code",
   "execution_count": 348,
   "metadata": {},
   "outputs": [
    {
     "name": "stderr",
     "output_type": "stream",
     "text": [
      "/opt/venv/lib/python3.6/site-packages/ipykernel_launcher.py:6: UserWarning: invalid index of a 0-dim tensor. This will be an error in PyTorch 0.5. Use tensor.item() to convert a 0-dim tensor to a Python number\n",
      "  \n"
     ]
    },
    {
     "data": {
      "image/png": "[encoded data removed]",
      "text/plain": [
       "<Figure size 432x288 with 1 Axes>"
      ]
     },
     "metadata": {},
     "output_type": "display_data"
    }
   ],
   "source": [
    "crit = LabelSmoothing(5, 0, 0.1)\n",
    "def loss(x):\n",
    "    d = x + 3 * 1\n",
    "    predict = torch.FloatTensor([[0, x / d, 1 / d, 1 / d, 1 / d],])\n",
    "    #print(predict)\n",
    "    return crit(Variable(predict), Variable(torch.LongTensor([1]))).data[0]\n",
    "plt.plot(np.arange(1, 100), [loss(x) for x in range(1, 100)])\n",
    "None"
   ]
  },
  {
   "cell_type": "code",
   "execution_count": 349,
   "metadata": {},
   "outputs": [
    {
     "name": "stderr",
     "output_type": "stream",
     "text": [
      "/opt/venv/lib/python3.6/site-packages/torch/nn/functional.py:52: UserWarning: size_average and reduce args will be deprecated, please use reduction='sum' instead.\n",
      "  warnings.warn(warning.format(ret))\n"
     ]
    },
    {
     "data": {
      "text/plain": [
       "tensor(23.6146, dtype=torch.float64)"
      ]
     },
     "execution_count": 349,
     "metadata": {},
     "output_type": "execute_result"
    }
   ],
   "source": [
    "criterion = torch.nn.KLDivLoss(size_average=False)\n",
    "a = torch.tensor(np.random.normal(size = (32, 10)))\n",
    "b = torch.tensor(np.random.normal(size = ( 32, 10)))\n",
    "criterion(a, b)"
   ]
  },
  {
   "cell_type": "code",
   "execution_count": null,
   "metadata": {},
   "outputs": [],
   "source": [
    "criterion(torch.tensor(np.random.normal(size = ( 32, 10))), torch.tensor(np.random.normal(size = ( 32, 10))))"
   ]
  },
  {
   "cell_type": "markdown",
   "metadata": {},
   "source": [
    "### batch mask"
   ]
  },
  {
   "cell_type": "code",
   "execution_count": 340,
   "metadata": {},
   "outputs": [],
   "source": [
    "import torch\n",
    "\n",
    "def data_gen(V, batch, nbatches):\n",
    "    \"Generate random data for a src-tgt copy task.\"\n",
    "    for i in range(nbatches):\n",
    "        data = torch.from_numpy(np.random.randint(1, V, size=(batch, 10)))\n",
    "        data[:, 0] = 1\n",
    "        src = Variable(data, requires_grad=False)\n",
    "        tgt = Variable(data, requires_grad=False)\n",
    "        print('src shape = {}'.format(src.shape))\n",
    "        print('tgt shape = {}'.format(tgt.shape))\n",
    "        yield Batch(src, tgt, 0)\n",
    "        \n",
    "def subsequent_mask(size):\n",
    "    \"Mask out subsequent positions.\"\n",
    "    attn_shape = (1, size, size)\n",
    "    subsequent_mask = np.triu(np.ones(attn_shape), k=1).astype('uint8')\n",
    "    return torch.from_numpy(subsequent_mask) == 0\n",
    "\n",
    "V = 11\n",
    "data = data_gen(V, 30, 20)"
   ]
  },
  {
   "cell_type": "code",
   "execution_count": 342,
   "metadata": {},
   "outputs": [],
   "source": [
    "class Batch:\n",
    "    \"Object for holding a batch of data with mask during training.\"\n",
    "    def __init__(self, src, trg=None, pad=0):\n",
    "        self.src = src\n",
    "        self.src_mask = (src != pad).unsqueeze(-2)\n",
    "        if trg is not None:\n",
    "            self.trg = trg[:, :-1]\n",
    "            self.trg_y = trg[:, 1:]\n",
    "            self.trg_mask = \\\n",
    "                self.make_std_mask(self.trg, pad)\n",
    "            self.ntokens = (self.trg_y != pad).data.sum()\n",
    "            #print('ntokens = {}'.format(self.ntokens))\n",
    "    \n",
    "    @staticmethod\n",
    "    def make_std_mask(tgt, pad):\n",
    "        \"Create a mask to hide padding and future words.\"\n",
    "        tgt_mask = (tgt != pad).unsqueeze(-2)\n",
    "        #print('tgt = {}, aaa = {}'.format(tgt_mask.shape, Variable(subsequent_mask(tgt.size(-1)).type_as(tgt_mask.data)).shape))\n",
    "        tgt_mask = tgt_mask & Variable(subsequent_mask(tgt.size(-1)).type_as(tgt_mask.data))\n",
    "        #print('{}'.format(tgt_mask.shape))\n",
    "        return tgt_mask"
   ]
  },
  {
   "cell_type": "code",
   "execution_count": 343,
   "metadata": {},
   "outputs": [
    {
     "name": "stdout",
     "output_type": "stream",
     "text": [
      "src shape = torch.Size([30, 10])\n",
      "tgt shape = torch.Size([30, 10])\n",
      "a = torch.Size([30, 9, 9])\n",
      "src shape = torch.Size([30, 10])\n",
      "tgt shape = torch.Size([30, 10])\n",
      "a = torch.Size([30, 9, 9])\n",
      "src shape = torch.Size([30, 10])\n",
      "tgt shape = torch.Size([30, 10])\n",
      "a = torch.Size([30, 9, 9])\n"
     ]
    }
   ],
   "source": [
    "for i, d in enumerate(data):\n",
    "    d_src = d.src\n",
    "    d_tgt = d.trg,\n",
    "    d_tgt_y = d.trg_y\n",
    "    d_src_msk = d.src_mask\n",
    "    d_tgt_msk = d.trg_mask\n",
    "    print('a = {}'.format(d_tgt_msk.shape))\n",
    "    if i == 2:\n",
    "        break"
   ]
  },
  {
   "cell_type": "code",
   "execution_count": 372,
   "metadata": {},
   "outputs": [],
   "source": [
    "# out data\n",
    "out = torch.FloatTensor(np.random.uniform(size = (30, 9 , 11)))\n",
    "d_tgt_y.type_as('Float')\n",
    "sm = torch.nn.Softmax(dim = 1)\n",
    "out = sm(out)\n",
    "\n",
    "# one hot\n",
    "y = d_tgt_y.contiguous().view(-1)\n",
    "ones=torch.ones(y.size())\n",
    "y_one_hot = torch.zeros_like(out.view(-1, out.size(-1)))\n",
    "y_one_hot.scatter_(1, y.unsqueeze(-1),ones.unsqueeze(-1))\n",
    "\n",
    "# loss\n",
    "criterion = torch.nn.KLDivLoss(size_average=False)\n",
    "criterion(out.contiguous().view(-1, out.size(-1)), y_one_hot)"
   ]
  },
  {
   "cell_type": "markdown",
   "metadata": {},
   "source": [
    "## Bitoperation for masking observations"
   ]
  },
  {
   "cell_type": "code",
   "execution_count": 269,
   "metadata": {},
   "outputs": [
    {
     "name": "stdout",
     "output_type": "stream",
     "text": [
      "a shape = torch.Size([2, 1, 4]), c shape = torch.Size([1, 4, 4])\n",
      "a = tensor([[[6, 1, 9, 0]],\n",
      "\n",
      "        [[0, 0, 0, 0]]]),\n",
      " c = tensor([[[1, 0, 0, 0],\n",
      "         [1, 1, 0, 0],\n",
      "         [1, 1, 1, 0],\n",
      "         [1, 1, 1, 1]]]),\n",
      " b = tensor([[[0, 0, 0, 0],\n",
      "         [0, 1, 0, 0],\n",
      "         [0, 1, 1, 0],\n",
      "         [0, 1, 1, 0]],\n",
      "\n",
      "        [[0, 0, 0, 0],\n",
      "         [0, 0, 0, 0],\n",
      "         [0, 0, 0, 0],\n",
      "         [0, 0, 0, 0]]])\n"
     ]
    }
   ],
   "source": [
    "a = torch.tensor([[6,1,9,0], [0,0,0,0]])\n",
    "a = a.unsqueeze(-2)\n",
    "c = Variable(subsequent_mask(4)).type_as(a.data)\n",
    "print('a shape = {}, c shape = {}'.format(a.shape, c.shape))\n",
    "\n",
    "b = a & c\n",
    "print('a = {},\\n c = {},\\n b = {}'.format(a, c, b))\n"
   ]
  },
  {
   "cell_type": "code",
   "execution_count": 176,
   "metadata": {},
   "outputs": [
    {
     "data": {
      "text/plain": [
       "tensor([[[1, 0, 0, 0],\n",
       "         [1, 0, 0, 0],\n",
       "         [1, 0, 1, 0],\n",
       "         [1, 0, 1, 0]],\n",
       "\n",
       "        [[0, 0, 0, 0],\n",
       "         [0, 1, 0, 0],\n",
       "         [0, 1, 0, 0],\n",
       "         [0, 1, 0, 1]]])"
      ]
     },
     "execution_count": 176,
     "metadata": {},
     "output_type": "execute_result"
    }
   ],
   "source": [
    "b"
   ]
  },
  {
   "cell_type": "markdown",
   "metadata": {},
   "source": [
    "### Generator test"
   ]
  },
  {
   "cell_type": "code",
   "execution_count": 361,
   "metadata": {},
   "outputs": [],
   "source": [
    "x  = torch.FloatTensor(np.random.normal(size = (32, 11, 512)))"
   ]
  },
  {
   "cell_type": "code",
   "execution_count": 362,
   "metadata": {},
   "outputs": [],
   "source": [
    "class Generator(torch.nn.Module):\n",
    "    \"Define standard linear + softmax generation step.\"\n",
    "    def __init__(self, d_model, vocab):\n",
    "        super(Generator, self).__init__()\n",
    "        self.proj = torch.nn.Linear(d_model, vocab)\n",
    "\n",
    "    def forward(self, x):\n",
    "        return F.log_softmax(self.proj(x), dim=-1)"
   ]
  },
  {
   "cell_type": "code",
   "execution_count": 363,
   "metadata": {},
   "outputs": [
    {
     "data": {
      "text/plain": [
       "torch.Size([32, 11, 10])"
      ]
     },
     "execution_count": 363,
     "metadata": {},
     "output_type": "execute_result"
    }
   ],
   "source": [
    "gen = Generator(512, 10)\n",
    "res = gen.forward(x)\n",
    "res.shape"
   ]
  },
  {
   "cell_type": "markdown",
   "metadata": {},
   "source": [
    "### Greedy decoder"
   ]
  },
  {
   "cell_type": "code",
   "execution_count": 418,
   "metadata": {},
   "outputs": [],
   "source": [
    "src = Variable(torch.LongTensor([[1,2,3,4,5,6,7,8,9,10]]) )\n",
    "src_mask = Variable(torch.ones(1, 1, 10) )\n",
    "ys = torch.ones(1, 1).fill_(1).type_as(src.data)"
   ]
  },
  {
   "cell_type": "code",
   "execution_count": 427,
   "metadata": {},
   "outputs": [
    {
     "data": {
      "text/plain": [
       "torch.Size([1, 1])"
      ]
     },
     "execution_count": 427,
     "metadata": {},
     "output_type": "execute_result"
    }
   ],
   "source": [
    "ys.shape"
   ]
  },
  {
   "cell_type": "code",
   "execution_count": 430,
   "metadata": {},
   "outputs": [
    {
     "data": {
      "text/plain": [
       "1"
      ]
     },
     "execution_count": 430,
     "metadata": {},
     "output_type": "execute_result"
    }
   ],
   "source": [
    "ys.size(0)"
   ]
  },
  {
   "cell_type": "code",
   "execution_count": 428,
   "metadata": {},
   "outputs": [
    {
     "data": {
      "text/plain": [
       "torch.Size([1, 1, 1])"
      ]
     },
     "execution_count": 428,
     "metadata": {},
     "output_type": "execute_result"
    }
   ],
   "source": [
    "Variable(subsequent_mask(ys.size(1))).type_as(src.data).shape"
   ]
  },
  {
   "cell_type": "code",
   "execution_count": 431,
   "metadata": {},
   "outputs": [],
   "source": [
    "ys = torch.cat([ys, torch.ones(1, 1).type_as(src.data).fill_(5)], dim=1)"
   ]
  },
  {
   "cell_type": "code",
   "execution_count": 432,
   "metadata": {},
   "outputs": [
    {
     "data": {
      "text/plain": [
       "tensor([[1, 5]])"
      ]
     },
     "execution_count": 432,
     "metadata": {},
     "output_type": "execute_result"
    }
   ],
   "source": [
    "ys"
   ]
  },
  {
   "cell_type": "code",
   "execution_count": 436,
   "metadata": {},
   "outputs": [
    {
     "name": "stdout",
     "output_type": "stream",
     "text": [
      "tensor([3, 6])\n"
     ]
    }
   ],
   "source": [
    "# a: value, b: position of max\n",
    "a, b= torch.max(torch.tensor([[1,2,3],[4,5,6]]), dim = 1)\n",
    "print(b)"
   ]
  },
  {
   "cell_type": "code",
   "execution_count": null,
   "metadata": {},
   "outputs": [],
   "source": []
  },
  {
   "cell_type": "code",
   "execution_count": null,
   "metadata": {},
   "outputs": [],
   "source": [
    "    for i in range(max_len-1):\n",
    "        out = model.decode(memory, src_mask, \n",
    "                           Variable(ys), \n",
    "                           Variable(subsequent_mask(ys.size(1))\n",
    "                                    ))"
   ]
  }
 ],
 "metadata": {
  "kernelspec": {
   "display_name": "Python 3",
   "language": "python",
   "name": "python3"
  },
  "language_info": {
   "codemirror_mode": {
    "name": "ipython",
    "version": 3
   },
   "file_extension": ".py",
   "mimetype": "text/x-python",
   "name": "python",
   "nbconvert_exporter": "python",
   "pygments_lexer": "ipython3",
   "version": "3.6.5"
  }
 },
 "nbformat": 4,
 "nbformat_minor": 2
}
